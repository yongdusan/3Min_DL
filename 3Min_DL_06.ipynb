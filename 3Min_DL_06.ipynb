{
 "cells": [
  {
   "cell_type": "markdown",
   "metadata": {},
   "source": [
    "### 골빈해커의 3분 딥러닝\n",
    "#### 6장 헬로 딥러닝 MNIST"
   ]
  },
  {
   "cell_type": "code",
   "execution_count": 23,
   "metadata": {},
   "outputs": [
    {
     "name": "stdout",
     "output_type": "stream",
     "text": [
      "Extracting ./mnist/data/train-images-idx3-ubyte.gz\n",
      "Extracting ./mnist/data/train-labels-idx1-ubyte.gz\n",
      "Extracting ./mnist/data/t10k-images-idx3-ubyte.gz\n",
      "Extracting ./mnist/data/t10k-labels-idx1-ubyte.gz\n"
     ]
    }
   ],
   "source": [
    "import tensorflow as tf\n",
    "import numpy as np\n",
    "import matplotlib.pyplot as plt\n",
    "\n",
    "from tensorflow.examples.tutorials.mnist import input_data\n",
    "mnist = input_data.read_data_sets(\"./mnist/data/\", one_hot=True)"
   ]
  },
  {
   "cell_type": "code",
   "execution_count": 19,
   "metadata": {
    "collapsed": true
   },
   "outputs": [],
   "source": [
    "# 모델 구성 (1) - dropout 미적용\n",
    "\n",
    "X = tf.placeholder(tf.float32, [None, 784]) # 28 * 28  = 784, None에는 MNIST 이미지 개수 지정 (즉, 배치 크기 지정 => None으로 두면 알아서)\n",
    "Y = tf.placeholder(tf.float32, [None, 10])\n",
    "\n",
    "with tf.name_scope('layer1'):\n",
    "    W1 = tf.Variable(tf.random_normal([784, 256], stddev=0.01))\n",
    "    L1 = tf.nn.relu(tf.matmul(X, W1))\n",
    "\n",
    "with tf.name_scope('layer2'):\n",
    "    W2 = tf.Variable(tf.random_normal([256, 256], stddev=0.01))\n",
    "    L2 = tf.nn.relu(tf.matmul(L1, W2))\n",
    "\n",
    "with tf.name_scope('layer3'):\n",
    "    W3 = tf.Variable(tf.random_normal([256, 10], stddev=0.01))\n",
    "    model = tf.matmul(L2, W3)\n",
    "    \n",
    "with tf.name_scope('optimizer'):\n",
    "    cost = tf.reduce_mean(tf.nn.softmax_cross_entropy_with_logits(labels = Y, logits = model))\n",
    "\n",
    "    optimizer = tf.train.AdamOptimizer(learning_rate = 0.001).minimize(cost)\n",
    "    \n",
    "    "
   ]
  },
  {
   "cell_type": "code",
   "execution_count": 16,
   "metadata": {},
   "outputs": [],
   "source": [
    "# 모델 구성 (2) - dropout 적용\n",
    "\n",
    "X = tf.placeholder(tf.float32, [None, 784]) # 28 * 28  = 784, None에는 MNIST 이미지 개수 지정 (즉, 배치 크기 지정 => None으로 두면 알아서)\n",
    "Y = tf.placeholder(tf.float32, [None, 10])\n",
    "keep_prob = tf.placeholder(tf.float32)\n",
    "\n",
    "with tf.name_scope('layer1'):\n",
    "    W1 = tf.Variable(tf.random_normal([784, 256], stddev=0.01))\n",
    "    L1 = tf.nn.relu(tf.matmul(X, W1))\n",
    "    L1 = tf.nn.dropout(L1, keep_prob)\n",
    "\n",
    "with tf.name_scope('layer2'):\n",
    "    W2 = tf.Variable(tf.random_normal([256, 256], stddev=0.01))\n",
    "    L2 = tf.nn.relu(tf.matmul(L1, W2))\n",
    "    L2 = tf.nn.dropout(L2, keep_prob)\n",
    "\n",
    "with tf.name_scope('layer3'):\n",
    "    W3 = tf.Variable(tf.random_normal([256, 10], stddev=0.01))\n",
    "    model = tf.matmul(L2, W3)\n",
    "    \n",
    "with tf.name_scope('optimizer'):\n",
    "    cost = tf.reduce_mean(tf.nn.softmax_cross_entropy_with_logits(labels = Y, logits = model))\n",
    "\n",
    "    optimizer = tf.train.AdamOptimizer(learning_rate = 0.001).minimize(cost)\n",
    "    "
   ]
  },
  {
   "cell_type": "code",
   "execution_count": 20,
   "metadata": {},
   "outputs": [
    {
     "name": "stdout",
     "output_type": "stream",
     "text": [
      "Epoch:  0001 Avg.cost = 0.409965\n",
      "Epoch:  0002 Avg.cost = 0.148206\n",
      "Epoch:  0003 Avg.cost = 0.095985\n",
      "Epoch:  0004 Avg.cost = 0.069375\n",
      "Epoch:  0005 Avg.cost = 0.052475\n",
      "Epoch:  0006 Avg.cost = 0.040384\n",
      "Epoch:  0007 Avg.cost = 0.032208\n",
      "Epoch:  0008 Avg.cost = 0.025073\n",
      "Epoch:  0009 Avg.cost = 0.023347\n",
      "Epoch:  0010 Avg.cost = 0.017776\n",
      "Epoch:  0011 Avg.cost = 0.014433\n",
      "Epoch:  0012 Avg.cost = 0.013924\n",
      "Epoch:  0013 Avg.cost = 0.013267\n",
      "Epoch:  0014 Avg.cost = 0.011147\n",
      "Epoch:  0015 Avg.cost = 0.011174\n",
      "Epoch:  0016 Avg.cost = 0.010615\n",
      "Epoch:  0017 Avg.cost = 0.010729\n",
      "Epoch:  0018 Avg.cost = 0.007722\n",
      "Epoch:  0019 Avg.cost = 0.008726\n",
      "Epoch:  0020 Avg.cost = 0.007890\n",
      "Epoch:  0021 Avg.cost = 0.009463\n",
      "Epoch:  0022 Avg.cost = 0.005623\n",
      "Epoch:  0023 Avg.cost = 0.007924\n",
      "Epoch:  0024 Avg.cost = 0.007043\n",
      "Epoch:  0025 Avg.cost = 0.005582\n",
      "Epoch:  0026 Avg.cost = 0.006259\n",
      "Epoch:  0027 Avg.cost = 0.006933\n",
      "Epoch:  0028 Avg.cost = 0.003995\n",
      "Epoch:  0029 Avg.cost = 0.008203\n",
      "Epoch:  0030 Avg.cost = 0.004994\n",
      "최적화 완료\n"
     ]
    }
   ],
   "source": [
    "# 모델 학습 (1)\n",
    "init = tf.global_variables_initializer()\n",
    "sess = tf.Session()\n",
    "sess.run(init)\n",
    "\n",
    "\n",
    "batch_size = 100\n",
    "total_batch = int(mnist.train.num_examples / batch_size)\n",
    "\n",
    "for epoch in range(30):\n",
    "    total_cost = 0\n",
    "    \n",
    "    for i in range(total_batch):\n",
    "        batch_xs, batch_ys = mnist.train.next_batch(batch_size)\n",
    "        \n",
    "        _, cost_val = sess.run([optimizer, cost],\n",
    "                              feed_dict = {X: batch_xs, Y: batch_ys})\n",
    "        total_cost += cost_val\n",
    "        \n",
    "    print('Epoch: ', '%04d' % (epoch + 1),\n",
    "          'Avg.cost =', '{:3f}'.format(total_cost / total_batch))\n",
    "\n",
    "print('최적화 완료')"
   ]
  },
  {
   "cell_type": "code",
   "execution_count": 17,
   "metadata": {},
   "outputs": [
    {
     "name": "stdout",
     "output_type": "stream",
     "text": [
      "Epoch:  0001 Avg.cost = 0.433048\n",
      "Epoch:  0002 Avg.cost = 0.167822\n",
      "Epoch:  0003 Avg.cost = 0.116428\n",
      "Epoch:  0004 Avg.cost = 0.090071\n",
      "Epoch:  0005 Avg.cost = 0.073550\n",
      "Epoch:  0006 Avg.cost = 0.061780\n",
      "Epoch:  0007 Avg.cost = 0.052280\n",
      "Epoch:  0008 Avg.cost = 0.045776\n",
      "Epoch:  0009 Avg.cost = 0.039689\n",
      "Epoch:  0010 Avg.cost = 0.037659\n",
      "Epoch:  0011 Avg.cost = 0.035005\n",
      "Epoch:  0012 Avg.cost = 0.029920\n",
      "Epoch:  0013 Avg.cost = 0.028620\n",
      "Epoch:  0014 Avg.cost = 0.026793\n",
      "Epoch:  0015 Avg.cost = 0.025414\n",
      "Epoch:  0016 Avg.cost = 0.024552\n",
      "Epoch:  0017 Avg.cost = 0.023967\n",
      "Epoch:  0018 Avg.cost = 0.022062\n",
      "Epoch:  0019 Avg.cost = 0.021137\n",
      "Epoch:  0020 Avg.cost = 0.019273\n",
      "Epoch:  0021 Avg.cost = 0.018854\n",
      "Epoch:  0022 Avg.cost = 0.018765\n",
      "Epoch:  0023 Avg.cost = 0.018453\n",
      "Epoch:  0024 Avg.cost = 0.017761\n",
      "Epoch:  0025 Avg.cost = 0.016627\n",
      "Epoch:  0026 Avg.cost = 0.018289\n",
      "Epoch:  0027 Avg.cost = 0.016867\n",
      "Epoch:  0028 Avg.cost = 0.015894\n",
      "Epoch:  0029 Avg.cost = 0.014716\n",
      "Epoch:  0030 Avg.cost = 0.015899\n",
      "최적화 완료\n"
     ]
    }
   ],
   "source": [
    "# 모델 학습 (2)\n",
    "init = tf.global_variables_initializer()\n",
    "sess = tf.Session()\n",
    "sess.run(init)\n",
    "    \n",
    "merged = tf.summary.merge_all()\n",
    "writer = tf.summary.FileWriter('./logs', sess.graph)\n",
    "\n",
    "batch_size = 100\n",
    "total_batch = int(mnist.train.num_examples / batch_size)\n",
    "\n",
    "for epoch in range(30):\n",
    "    total_cost = 0\n",
    "    \n",
    "    for i in range(total_batch):\n",
    "        batch_xs, batch_ys = mnist.train.next_batch(batch_size)\n",
    "        \n",
    "        _, cost_val = sess.run([optimizer, cost],\n",
    "                              feed_dict = {X: batch_xs, Y: batch_ys, keep_prob: 0.8})\n",
    "        total_cost += cost_val\n",
    "\n",
    "        \n",
    "    print('Epoch: ', '%04d' % (epoch + 1),\n",
    "          'Avg.cost =', '{:3f}'.format(total_cost / total_batch))\n",
    "\n",
    "print('최적화 완료')"
   ]
  },
  {
   "cell_type": "code",
   "execution_count": 21,
   "metadata": {},
   "outputs": [
    {
     "name": "stdout",
     "output_type": "stream",
     "text": [
      "정확도: 0.978\n"
     ]
    }
   ],
   "source": [
    "# 결과 확인 (1)\n",
    "is_correct = tf.equal(tf.argmax(model, 1), tf.argmax(Y, 1))\n",
    "accuracy = tf.reduce_mean(tf.cast(is_correct, tf.float32))\n",
    "print('정확도: %.3f' % sess.run(accuracy, feed_dict= {X: mnist.test.images, \n",
    "                                                      Y: mnist.test.labels}))"
   ]
  },
  {
   "cell_type": "code",
   "execution_count": 18,
   "metadata": {},
   "outputs": [
    {
     "name": "stdout",
     "output_type": "stream",
     "text": [
      "정확도: 0.982\n"
     ]
    }
   ],
   "source": [
    "# 결과 확인 (2)\n",
    "is_correct = tf.equal(tf.argmax(model, 1), tf.argmax(Y, 1))\n",
    "accuracy = tf.reduce_mean(tf.cast(is_correct, tf.float32))\n",
    "print('정확도: %.3f' % sess.run(accuracy, feed_dict= {X: mnist.test.images, \n",
    "                                                      Y: mnist.test.labels,\n",
    "                                                      keep_prob: 1}))"
   ]
  },
  {
   "cell_type": "code",
   "execution_count": 25,
   "metadata": {},
   "outputs": [
    {
     "data": {
      "image/png": "[encoded data removed]",
      "text/plain": [
       "<matplotlib.figure.Figure at 0x21daa678940>"
      ]
     },
     "metadata": {},
     "output_type": "display_data"
    },
    {
     "data": {
      "image/png": "[encoded data removed]",
      "text/plain": [
       "<matplotlib.figure.Figure at 0x21da5d07ef0>"
      ]
     },
     "metadata": {},
     "output_type": "display_data"
    }
   ],
   "source": [
    "# 결과 확인 (3) matplotlib 적용\n",
    "labels = sess.run(model, feed_dict = {X: mnist.test.images,\n",
    "                                      Y: mnist.test.labels,\n",
    "                                      keep_prob: 1})\n",
    "\n",
    "fig = plt.figure()\n",
    "for i in range(10):\n",
    "    subplot = fig.add_subplot(2, 5, i + 1)\n",
    "    subplot.set_xticks([])\n",
    "    subplot.set_yticks([])\n",
    "    subplot.set_title('%d' % np.argmax(labels[i]))\n",
    "    subplot.imshow(mnist.test.images[i].reshape((28, 28)), cmap=plt.cm.gray_r)\n",
    "    \n",
    "plt.show()"
   ]
  },
  {
   "cell_type": "code",
   "execution_count": null,
   "metadata": {
    "collapsed": true
   },
   "outputs": [],
   "source": []
  }
 ],
 "metadata": {
  "kernelspec": {
   "display_name": "Python 3",
   "language": "python",
   "name": "python3"
  },
  "language_info": {
   "codemirror_mode": {
    "name": "ipython",
    "version": 3
   },
   "file_extension": ".py",
   "mimetype": "text/x-python",
   "name": "python",
   "nbconvert_exporter": "python",
   "pygments_lexer": "ipython3",
   "version": "3.6.1"
  }
 },
 "nbformat": 4,
 "nbformat_minor": 2
}
