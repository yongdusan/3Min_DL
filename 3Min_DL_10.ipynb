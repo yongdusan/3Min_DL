{
 "cells": [
  {
   "cell_type": "markdown",
   "metadata": {},
   "source": [
    "### 골빈해커의 3분 딥러닝\n",
    "#### 10장 번역과 챗봇 모델의 기본 RNN"
   ]
  },
  {
   "cell_type": "code",
   "execution_count": 1,
   "metadata": {},
   "outputs": [
    {
     "name": "stdout",
     "output_type": "stream",
     "text": [
      "Extracting ./mnist/data/train-images-idx3-ubyte.gz\n",
      "Extracting ./mnist/data/train-labels-idx1-ubyte.gz\n",
      "Extracting ./mnist/data/t10k-images-idx3-ubyte.gz\n",
      "Extracting ./mnist/data/t10k-labels-idx1-ubyte.gz\n",
      "Epoch:  0001 Avg. cost =  0.512\n",
      "Epoch:  0002 Avg. cost =  0.237\n",
      "Epoch:  0003 Avg. cost =  0.179\n",
      "Epoch:  0004 Avg. cost =  0.149\n",
      "Epoch:  0005 Avg. cost =  0.139\n",
      "Epoch:  0006 Avg. cost =  0.130\n",
      "Epoch:  0007 Avg. cost =  0.107\n",
      "Epoch:  0008 Avg. cost =  0.107\n",
      "Epoch:  0009 Avg. cost =  0.102\n",
      "Epoch:  0010 Avg. cost =  0.098\n",
      "Epoch:  0011 Avg. cost =  0.088\n",
      "Epoch:  0012 Avg. cost =  0.092\n",
      "Epoch:  0013 Avg. cost =  0.088\n",
      "Epoch:  0014 Avg. cost =  0.087\n",
      "Epoch:  0015 Avg. cost =  0.078\n",
      "Epoch:  0016 Avg. cost =  0.081\n",
      "Epoch:  0017 Avg. cost =  0.079\n",
      "Epoch:  0018 Avg. cost =  0.076\n",
      "Epoch:  0019 Avg. cost =  0.078\n",
      "Epoch:  0020 Avg. cost =  0.069\n",
      "Epoch:  0021 Avg. cost =  0.074\n",
      "Epoch:  0022 Avg. cost =  0.071\n",
      "Epoch:  0023 Avg. cost =  0.062\n",
      "Epoch:  0024 Avg. cost =  0.066\n",
      "Epoch:  0025 Avg. cost =  0.063\n",
      "Epoch:  0026 Avg. cost =  0.069\n",
      "Epoch:  0027 Avg. cost =  0.054\n",
      "Epoch:  0028 Avg. cost =  0.065\n",
      "Epoch:  0029 Avg. cost =  0.062\n",
      "Epoch:  0030 Avg. cost =  0.062\n",
      "최적화 완료!\n",
      "정확도: 0.9714\n"
     ]
    }
   ],
   "source": [
    "import tensorflow as tf\n",
    "\n",
    "from tensorflow.examples.tutorials.mnist import input_data\n",
    "mnist = input_data.read_data_sets(\"./mnist/data/\", one_hot = True)\n",
    "\n",
    "learning_rate = 0.001\n",
    "total_epoch = 30\n",
    "batch_size = 128\n",
    "\n",
    "n_input = 28\n",
    "n_step = 28 # 기존 모델과의 차이, \n",
    "n_hidden = 128\n",
    "n_class = 10\n",
    "\n",
    "X = tf.placeholder(tf.float32, [None, n_step, n_input])\n",
    "Y = tf.placeholder(tf.float32, [None, n_class])\n",
    "\n",
    "W = tf.Variable(tf.random_normal([n_hidden, n_class]))\n",
    "b = tf.Variable(tf.random_normal([n_class]))\n",
    "\n",
    "cell = tf.nn.rnn_cell.BasicRNNCell(n_hidden)\n",
    "\n",
    "outputs, states = tf.nn.dynamic_rnn(cell, X, dtype=tf.float32)\n",
    "\n",
    "# outputs : [batch_size, n_step, n_hidden]\n",
    "# -> [n_step, batch_size, n_hidden]\n",
    "outputs = tf.transpose(outputs, [1, 0, 2])\n",
    "# -> [batch_size, n_hidden]\n",
    "outputs = outputs[-1]\n",
    "\n",
    "model = tf.matmul(outputs, W) + b\n",
    "cost = tf.reduce_mean(tf.nn.softmax_cross_entropy_with_logits(logits=model, labels=Y))\n",
    "optimizer = tf.train.AdamOptimizer(learning_rate).minimize(cost)\n",
    "\n",
    "sess = tf.Session()\n",
    "sess.run(tf.global_variables_initializer())\n",
    "\n",
    "total_batch = int(mnist.train.num_examples / batch_size)\n",
    "\n",
    "for epoch in range(total_epoch):\n",
    "    total_cost = 0\n",
    "    \n",
    "    for i in range(total_batch):\n",
    "        batch_xs, batch_ys = mnist.train.next_batch(batch_size)\n",
    "        batch_xs = batch_xs.reshape((batch_size, n_step, n_input))\n",
    "        \n",
    "        _, cost_val = sess.run([optimizer, cost],\n",
    "                               feed_dict = {X: batch_xs, Y: batch_ys})\n",
    "        total_cost += cost_val\n",
    "        \n",
    "    print('Epoch: ', '%04d' % (epoch + 1),\n",
    "          'Avg. cost = ', '{:.3f}'.format(total_cost / total_batch))\n",
    "    \n",
    "print('최적화 완료!')\n",
    "\n",
    "is_correct = tf.equal(tf.argmax(model, 1), tf.argmax(Y, 1))\n",
    "accuracy = tf.reduce_mean(tf.cast(is_correct, tf.float32))\n",
    "\n",
    "test_batch_size = len(mnist.test.images)\n",
    "test_xs = mnist.test.images.reshape(test_batch_size, n_step, n_input)\n",
    "test_ys = mnist.test.labels\n",
    "\n",
    "print('정확도:', sess.run(accuracy, feed_dict = {X: test_xs, Y: test_ys}))"
   ]
  },
  {
   "cell_type": "code",
   "execution_count": null,
   "metadata": {
    "collapsed": true
   },
   "outputs": [],
   "source": []
  }
 ],
 "metadata": {
  "kernelspec": {
   "display_name": "Python 3",
   "language": "python",
   "name": "python3"
  },
  "language_info": {
   "codemirror_mode": {
    "name": "ipython",
    "version": 3
   },
   "file_extension": ".py",
   "mimetype": "text/x-python",
   "name": "python",
   "nbconvert_exporter": "python",
   "pygments_lexer": "ipython3",
   "version": "3.6.1"
  }
 },
 "nbformat": 4,
 "nbformat_minor": 2
}
