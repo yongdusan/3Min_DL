{
 "cells": [
  {
   "cell_type": "markdown",
   "metadata": {},
   "source": [
    "### 골빈해커의 3분 딥러닝\n",
    "#### 8장 대표적 비지도 학습법 Autoencoder"
   ]
  },
  {
   "cell_type": "code",
   "execution_count": 2,
   "metadata": {},
   "outputs": [
    {
     "name": "stdout",
     "output_type": "stream",
     "text": [
      "Extracting ./mnist/data/train-images-idx3-ubyte.gz\n",
      "Extracting ./mnist/data/train-labels-idx1-ubyte.gz\n",
      "Extracting ./mnist/data/t10k-images-idx3-ubyte.gz\n",
      "Extracting ./mnist/data/t10k-labels-idx1-ubyte.gz\n"
     ]
    }
   ],
   "source": [
    "import tensorflow as tf\n",
    "import numpy as np\n",
    "import matplotlib.pyplot as plt\n",
    "\n",
    "from tensorflow.examples.tutorials.mnist import input_data\n",
    "mnist = input_data.read_data_sets(\"./mnist/data/\", one_hot=True)"
   ]
  },
  {
   "cell_type": "code",
   "execution_count": 4,
   "metadata": {},
   "outputs": [
    {
     "name": "stdout",
     "output_type": "stream",
     "text": [
      "Epoch:  0001 Avg.cost = 0.192314\n",
      "Epoch:  0002 Avg.cost = 0.050804\n",
      "Epoch:  0003 Avg.cost = 0.040456\n",
      "Epoch:  0004 Avg.cost = 0.036463\n",
      "Epoch:  0005 Avg.cost = 0.032545\n",
      "Epoch:  0006 Avg.cost = 0.030172\n",
      "Epoch:  0007 Avg.cost = 0.029094\n",
      "Epoch:  0008 Avg.cost = 0.028372\n",
      "Epoch:  0009 Avg.cost = 0.027893\n",
      "Epoch:  0010 Avg.cost = 0.027534\n",
      "Epoch:  0011 Avg.cost = 0.027227\n",
      "Epoch:  0012 Avg.cost = 0.026931\n",
      "Epoch:  0013 Avg.cost = 0.026696\n",
      "Epoch:  0014 Avg.cost = 0.026495\n",
      "Epoch:  0015 Avg.cost = 0.026198\n",
      "Epoch:  0016 Avg.cost = 0.025959\n",
      "Epoch:  0017 Avg.cost = 0.025802\n",
      "Epoch:  0018 Avg.cost = 0.025578\n",
      "Epoch:  0019 Avg.cost = 0.025232\n",
      "Epoch:  0020 Avg.cost = 0.025089\n",
      "최적화 완료\n"
     ]
    },
    {
     "data": {
      "text/plain": [
       "<matplotlib.figure.Figure at 0x214085ebf60>"
      ]
     },
     "metadata": {},
     "output_type": "display_data"
    },
    {
     "data": {
      "image/png": "[encoded data removed]",
      "text/plain": [
       "<matplotlib.figure.Figure at 0x2141f5be2e8>"
      ]
     },
     "metadata": {},
     "output_type": "display_data"
    }
   ],
   "source": [
    "# hyper parameters\n",
    "learning_rate = 0.01\n",
    "training_epoch = 20\n",
    "batch_size = 100 \n",
    "n_hidden = 256 # 은닉층의 뉴런 개수\n",
    "n_input = 28*28 # 입력값의 크기, 즉 여기서는 사용할 image 크기\n",
    "\n",
    "# 모델 구성\n",
    "# encoder\n",
    "X = tf.placeholder(tf.float32, [None, n_input])\n",
    "W_encode = tf.Variable(tf.random_normal([n_input, n_hidden]))\n",
    "b_encode = tf.Variable(tf.random_normal([n_hidden]))\n",
    "\n",
    "encoder = tf.nn.sigmoid(tf.add(tf.matmul(X, W_encode), b_encode))\n",
    "#decoder\n",
    "W_decode = tf.Variable(tf.random_normal([n_hidden, n_input]))\n",
    "b_decode = tf.Variable(tf.random_normal([n_input]))\n",
    "\n",
    "decoder = tf.nn.sigmoid(tf.add(tf.matmul(encoder, W_decode), b_decode))\n",
    "\n",
    "# cost/Loss function\n",
    "cost = tf.reduce_mean(tf.pow(X - decoder, 2))\n",
    "\n",
    "optimizer = tf.train.RMSPropOptimizer(learning_rate).minimize(cost)\n",
    "\n",
    "# 모델 학습\n",
    "init = tf.global_variables_initializer()\n",
    "sess = tf.Session()\n",
    "sess.run(init)\n",
    "\n",
    "total_batch = int(mnist.train.num_examples / batch_size)\n",
    "\n",
    "for epoch in range(training_epoch):\n",
    "    total_cost = 0\n",
    "    \n",
    "    for i in range(total_batch):\n",
    "        batch_xs, batch_ys = mnist.train.next_batch(batch_size)\n",
    "        _, cost_val = sess.run([optimizer, cost],\n",
    "                              feed_dict = {X: batch_xs})\n",
    "        total_cost += cost_val\n",
    "        \n",
    "    print('Epoch: ', '%04d' % (epoch + 1),\n",
    "          'Avg.cost =', '{:4f}'.format(total_cost / total_batch))\n",
    "\n",
    "print('최적화 완료')\n",
    "\n",
    "# 결과 확인\n",
    "\n",
    "sample_size = 10\n",
    "\n",
    "samples = sess.run(decoder, feed_dict={X: mnist.test.images[:sample_size]})\n",
    "\n",
    "fig, ax = plt.subplots(2, sample_size, figsize=(sample_size, 2))\n",
    "\n",
    "for i in range(sample_size):\n",
    "    ax[0][i].set_axis_off()\n",
    "    ax[1][i].set_axis_off()\n",
    "    ax[0][i].imshow(np.reshape(mnist.test.images[i], (28, 28)))\n",
    "    ax[1][i].imshow(np.reshape(samples[i], (28, 28)))\n",
    "\n",
    "plt.show()"
   ]
  },
  {
   "cell_type": "code",
   "execution_count": null,
   "metadata": {
    "collapsed": true
   },
   "outputs": [],
   "source": []
  }
 ],
 "metadata": {
  "kernelspec": {
   "display_name": "Python 3",
   "language": "python",
   "name": "python3"
  },
  "language_info": {
   "codemirror_mode": {
    "name": "ipython",
    "version": 3
   },
   "file_extension": ".py",
   "mimetype": "text/x-python",
   "name": "python",
   "nbconvert_exporter": "python",
   "pygments_lexer": "ipython3",
   "version": "3.6.1"
  }
 },
 "nbformat": 4,
 "nbformat_minor": 2
}
