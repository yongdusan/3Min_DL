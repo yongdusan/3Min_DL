{
 "cells": [
  {
   "cell_type": "markdown",
   "metadata": {},
   "source": [
    "### 골빈해커의 3분 딥러닝\n",
    "#### 10장 번역과 챗봇 모델의 기본 RNN"
   ]
  },
  {
   "cell_type": "markdown",
   "metadata": {},
   "source": [
    "#### 단어자동완성"
   ]
  },
  {
   "cell_type": "code",
   "execution_count": 1,
   "metadata": {
    "collapsed": true
   },
   "outputs": [],
   "source": [
    "import tensorflow as tf\n",
    "import numpy as np"
   ]
  },
  {
   "cell_type": "code",
   "execution_count": 2,
   "metadata": {
    "collapsed": true
   },
   "outputs": [],
   "source": [
    "char_arr = ['a', 'b', 'c', 'd', 'e', 'f', 'g', \n",
    "            'h', 'i', 'j', 'k', 'l', 'm', 'n',\n",
    "            'o', 'p', 'q', 'r', 's', 't', 'u', \n",
    "            'v', 'w', 'x', 'y', 'z']\n",
    "\n",
    "# {'a': 0, 'b': 1, 'c': 2, ..., 'j': 9, 'k': 10, ...}\n",
    "num_dic = {n: i for i, n in enumerate(char_arr)}\n",
    "dic_len = len(num_dic)\n",
    "\n",
    "seq_data = ['word', 'wood', 'deep', 'dive', 'cold', 'cool', 'load', 'love', 'kiss', 'kind']\n"
   ]
  },
  {
   "cell_type": "code",
   "execution_count": 3,
   "metadata": {
    "collapsed": true
   },
   "outputs": [],
   "source": [
    "def make_batch(seq_data):\n",
    "    input_batch = []\n",
    "    target_batch = []\n",
    "    \n",
    "    for seq in seq_data:\n",
    "        input = [num_dic[n] for n in seq[:-1]]\n",
    "        target = num_dic[seq[-1]]\n",
    "        input_batch.append(np.eye(dic_len)[input])\n",
    "        target_batch.append(target)\n",
    "        \n",
    "    return input_batch, target_batch"
   ]
  },
  {
   "cell_type": "code",
   "execution_count": 4,
   "metadata": {
    "collapsed": true
   },
   "outputs": [],
   "source": [
    "learning_rate = 0.01\n",
    "n_hidden = 128\n",
    "total_epoch = 30\n",
    "\n",
    "n_step = 3\n",
    "n_input = n_class = dic_len"
   ]
  },
  {
   "cell_type": "code",
   "execution_count": 5,
   "metadata": {},
   "outputs": [
    {
     "name": "stdout",
     "output_type": "stream",
     "text": [
      "Epoch: 0001 cost = 2.697461\n",
      "Epoch: 0002 cost = 2.025894\n",
      "Epoch: 0003 cost = 1.409234\n",
      "Epoch: 0004 cost = 1.142312\n",
      "Epoch: 0005 cost = 0.478856\n",
      "Epoch: 0006 cost = 0.564950\n",
      "Epoch: 0007 cost = 0.429269\n",
      "Epoch: 0008 cost = 0.358164\n",
      "Epoch: 0009 cost = 0.267239\n",
      "Epoch: 0010 cost = 0.277022\n",
      "Epoch: 0011 cost = 0.273360\n",
      "Epoch: 0012 cost = 0.348875\n",
      "Epoch: 0013 cost = 0.363346\n",
      "Epoch: 0014 cost = 0.300657\n",
      "Epoch: 0015 cost = 0.385379\n",
      "Epoch: 0016 cost = 0.179756\n",
      "Epoch: 0017 cost = 0.065269\n",
      "Epoch: 0018 cost = 0.076488\n",
      "Epoch: 0019 cost = 0.115200\n",
      "Epoch: 0020 cost = 0.110858\n",
      "Epoch: 0021 cost = 0.040254\n",
      "Epoch: 0022 cost = 0.115897\n",
      "Epoch: 0023 cost = 0.036113\n",
      "Epoch: 0024 cost = 0.030051\n",
      "Epoch: 0025 cost = 0.024180\n",
      "Epoch: 0026 cost = 0.059713\n",
      "Epoch: 0027 cost = 0.012890\n",
      "Epoch: 0028 cost = 0.002502\n",
      "Epoch: 0029 cost = 0.024716\n",
      "Epoch: 0030 cost = 0.012242\n",
      "최적화 완료!\n",
      "\n",
      "=== 예측 결과 ===\n",
      "입력값:  ['wor ', 'woo ', 'dee ', 'div ', 'col ', 'coo ', 'loa ', 'lov ', 'kis ', 'kin ']\n",
      "예측값:  ['word', 'wood', 'deep', 'dive', 'cold', 'cool', 'load', 'love', 'kiss', 'kind']\n",
      "정확도:  1.0\n"
     ]
    }
   ],
   "source": [
    "X = tf.placeholder(tf.float32, [None, n_step, n_input])\n",
    "Y = tf.placeholder(tf.int32, [None])\n",
    "\n",
    "W = tf.Variable(tf.random_normal([n_hidden, n_class]))\n",
    "b = tf.Variable(tf.random_normal([n_class]))\n",
    "\n",
    "cell1 = tf.nn.rnn_cell.BasicLSTMCell(n_hidden)\n",
    "cell1 = tf.nn.rnn_cell.DropoutWrapper(cell1, output_keep_prob = 0.5)\n",
    "cell2 = tf.nn.rnn_cell.BasicLSTMCell(n_hidden)\n",
    "\n",
    "multi_cell = tf.nn.rnn_cell.MultiRNNCell([cell1, cell2])\n",
    "\n",
    "outputs, states = tf.nn.dynamic_rnn(multi_cell, X, dtype = tf.float32)\n",
    "\n",
    "outputs = tf.transpose(outputs, [1, 0 ,2])\n",
    "outputs = outputs[-1]\n",
    "model = tf.matmul(outputs, W) + b\n",
    "\n",
    "cost = tf.reduce_mean(tf.nn.sparse_softmax_cross_entropy_with_logits(logits=model, labels=Y))\n",
    "optimizer = tf.train.AdamOptimizer(learning_rate).minimize(cost)\n",
    "\n",
    "sess = tf.Session()\n",
    "sess.run(tf.global_variables_initializer())\n",
    "\n",
    "input_batch, target_batch = make_batch(seq_data)\n",
    "\n",
    "for epoch in range(total_epoch):\n",
    "    _, loss = sess.run([optimizer, cost],\n",
    "                       feed_dict={X: input_batch, Y: target_batch})\n",
    "\n",
    "    print('Epoch:', '%04d' % (epoch + 1),\n",
    "          'cost =', '{:.6f}'.format(loss))\n",
    "\n",
    "    \n",
    "print('최적화 완료!')\n",
    "\n",
    "prediction = tf.cast(tf.argmax(model, 1), tf.int32)\n",
    "prediction_check = tf.equal(prediction, Y)\n",
    "accuracy = tf.reduce_mean(tf.cast(prediction_check, tf.float32))\n",
    "\n",
    "input_batch, target_batch = make_batch(seq_data)\n",
    "\n",
    "predict, accuracy_val = sess.run([prediction, accuracy],\n",
    "                                 feed_dict={X: input_batch, Y: target_batch})\n",
    "\n",
    "predict_words = []\n",
    "for idx, val in enumerate(seq_data):\n",
    "    last_char = char_arr[predict[idx]]\n",
    "    predict_words.append(val[:3] + last_char)\n",
    "    \n",
    "print('\\n=== 예측 결과 ===')\n",
    "print('입력값: ', [w[:3] + ' ' for w in seq_data])\n",
    "print('예측값: ', predict_words)\n",
    "print('정확도: ', accuracy_val)"
   ]
  },
  {
   "cell_type": "code",
   "execution_count": null,
   "metadata": {
    "collapsed": true
   },
   "outputs": [],
   "source": []
  }
 ],
 "metadata": {
  "kernelspec": {
   "display_name": "Python 3",
   "language": "python",
   "name": "python3"
  },
  "language_info": {
   "codemirror_mode": {
    "name": "ipython",
    "version": 3
   },
   "file_extension": ".py",
   "mimetype": "text/x-python",
   "name": "python",
   "nbconvert_exporter": "python",
   "pygments_lexer": "ipython3",
   "version": "3.6.1"
  }
 },
 "nbformat": 4,
 "nbformat_minor": 2
}
