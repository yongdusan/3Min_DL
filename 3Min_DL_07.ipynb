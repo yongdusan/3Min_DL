{
 "cells": [
  {
   "cell_type": "markdown",
   "metadata": {},
   "source": [
    "### 골빈해커의 3분 딥러닝\n",
    "#### 7장 이미지 인식의 은총알 CNN"
   ]
  },
  {
   "cell_type": "code",
   "execution_count": 1,
   "metadata": {},
   "outputs": [
    {
     "name": "stdout",
     "output_type": "stream",
     "text": [
      "Extracting ./mnist/data/train-images-idx3-ubyte.gz\n",
      "Extracting ./mnist/data/train-labels-idx1-ubyte.gz\n",
      "Extracting ./mnist/data/t10k-images-idx3-ubyte.gz\n",
      "Extracting ./mnist/data/t10k-labels-idx1-ubyte.gz\n"
     ]
    }
   ],
   "source": [
    "import tensorflow as tf\n",
    "import numpy as np\n",
    "import matplotlib.pyplot as plt\n",
    "\n",
    "from tensorflow.examples.tutorials.mnist import input_data\n",
    "mnist = input_data.read_data_sets(\"./mnist/data/\", one_hot=True)"
   ]
  },
  {
   "cell_type": "code",
   "execution_count": 2,
   "metadata": {
    "collapsed": true
   },
   "outputs": [],
   "source": [
    "X = tf.placeholder(tf.float32, [None, 28, 28, 1]) # none은 입력데이터 개수, 1은 특징 개수(MNIST 회색조 이미지 색상이 1개)\n",
    "Y = tf.placeholder(tf.float32, [None, 10])\n",
    "keep_prob = tf.placeholder(tf.float32)"
   ]
  },
  {
   "cell_type": "code",
   "execution_count": 4,
   "metadata": {},
   "outputs": [],
   "source": [
    "with tf.name_scope('layer1'):\n",
    "    W1 = tf.Variable(tf.random_normal([3, 3, 1 ,32], stddev=0.01))\n",
    "    # Convolution layer\n",
    "    L1 = tf.nn.conv2d(X, W1, strides = [1, 1, 1, 1], padding ='SAME')\n",
    "    L1 = tf.nn.relu(L1)\n",
    "    # Pooling layer\n",
    "    L1 = tf.nn.max_pool(L1, ksize = [1, 2, 2, 1], strides = [1, 2, 2, 1], padding = 'SAME')\n",
    "    \n",
    "with tf.name_scope('layer2'):\n",
    "    W2 = tf.Variable(tf.random_normal([3, 3, 32, 64], stddev=0.01))\n",
    "    # Convolution layer\n",
    "    L2 = tf.nn.conv2d(L1, W2, strides = [1, 1, 1, 1], padding ='SAME')\n",
    "    L2 = tf.nn.relu(L2)\n",
    "    # Pooling layer\n",
    "    L2 = tf.nn.max_pool(L2, ksize = [1, 2, 2, 1], strides = [1, 2, 2, 1], padding = 'SAME')\n",
    "\n",
    "# full connect layer\n",
    "with tf.name_scope('layer3'):\n",
    "    W3 = tf.Variable(tf.random_normal([7 * 7 * 64,  256], stddev=0.01))\n",
    "    L3 = tf.reshape(L2, [-1, 7 * 7 * 64])\n",
    "    L3 = tf.matmul(L3, W3)\n",
    "    L3 = tf.nn.relu(L3)\n",
    "    L3 = tf.nn.dropout(L3, keep_prob)\n",
    "\n",
    "with tf.name_scope('layer4'):\n",
    "    W4 = tf.Variable(tf.random_normal([256, 10], stddev=0.01))\n",
    "    model = tf.matmul(L3, W4)\n",
    "    \n",
    "with tf.name_scope('optimizer'):\n",
    "    cost = tf.reduce_mean(tf.nn.softmax_cross_entropy_with_logits(labels = Y, logits = model))\n",
    "\n",
    "    optimizer = tf.train.AdamOptimizer(learning_rate = 0.001).minimize(cost)\n",
    "    # optimizer = tf.train.RMSPropOptimizer(0.001, 0.9).minimize(cost)"
   ]
  },
  {
   "cell_type": "code",
   "execution_count": 11,
   "metadata": {},
   "outputs": [
    {
     "name": "stdout",
     "output_type": "stream",
     "text": [
      "Epoch:  0001 Avg.cost = 0.174616\n",
      "Epoch:  0002 Avg.cost = 0.048656\n",
      "Epoch:  0003 Avg.cost = 0.031491\n",
      "Epoch:  0004 Avg.cost = 0.021582\n",
      "Epoch:  0005 Avg.cost = 0.014585\n",
      "Epoch:  0006 Avg.cost = 0.013144\n",
      "Epoch:  0007 Avg.cost = 0.012276\n",
      "Epoch:  0008 Avg.cost = 0.008046\n",
      "Epoch:  0009 Avg.cost = 0.005832\n",
      "Epoch:  0010 Avg.cost = 0.008423\n",
      "Epoch:  0011 Avg.cost = 0.008022\n",
      "Epoch:  0012 Avg.cost = 0.008169\n",
      "Epoch:  0013 Avg.cost = 0.003562\n",
      "Epoch:  0014 Avg.cost = 0.008719\n",
      "Epoch:  0015 Avg.cost = 0.004546\n",
      "Epoch:  0016 Avg.cost = 0.004123\n",
      "Epoch:  0017 Avg.cost = 0.004133\n",
      "Epoch:  0018 Avg.cost = 0.005535\n",
      "Epoch:  0019 Avg.cost = 0.001845\n",
      "Epoch:  0020 Avg.cost = 0.004396\n",
      "Epoch:  0021 Avg.cost = 0.010480\n",
      "Epoch:  0022 Avg.cost = 0.003005\n",
      "Epoch:  0023 Avg.cost = 0.001091\n",
      "Epoch:  0024 Avg.cost = 0.000945\n",
      "Epoch:  0025 Avg.cost = 0.000039\n",
      "Epoch:  0026 Avg.cost = 0.000021\n",
      "Epoch:  0027 Avg.cost = 0.000008\n",
      "Epoch:  0028 Avg.cost = 0.000006\n",
      "Epoch:  0029 Avg.cost = 0.000004\n",
      "Epoch:  0030 Avg.cost = 0.000004\n",
      "최적화 완료\n"
     ]
    }
   ],
   "source": [
    "# 모델 학습\n",
    "init = tf.global_variables_initializer()\n",
    "sess = tf.Session()\n",
    "sess.run(init)\n",
    "\n",
    "batch_size = 100\n",
    "total_batch = int(mnist.train.num_examples / batch_size)\n",
    "\n",
    "for epoch in range(30):\n",
    "    total_cost = 0\n",
    "    \n",
    "    for i in range(total_batch):\n",
    "        batch_xs, batch_ys = mnist.train.next_batch(batch_size)\n",
    "        batch_xs = batch_xs.reshape(-1, 28, 28, 1)\n",
    "        \n",
    "        _, cost_val = sess.run([optimizer, cost],\n",
    "                              feed_dict = {X: batch_xs, \n",
    "                                           Y: batch_ys, \n",
    "                                           keep_prob: 0.7})\n",
    "        total_cost += cost_val\n",
    "        \n",
    "    print('Epoch: ', '%04d' % (epoch + 1),\n",
    "          'Avg.cost =', '{:3f}'.format(total_cost / total_batch))\n",
    "\n",
    "print('최적화 완료')"
   ]
  },
  {
   "cell_type": "code",
   "execution_count": 6,
   "metadata": {},
   "outputs": [
    {
     "ename": "ValueError",
     "evalue": "Cannot feed value of shape (10000, 784) for Tensor 'Placeholder:0', which has shape '(?, 28, 28, 1)'",
     "output_type": "error",
     "traceback": [
      "\u001b[1;31m---------------------------------------------------------------------------\u001b[0m",
      "\u001b[1;31mValueError\u001b[0m                                Traceback (most recent call last)",
      "\u001b[1;32m<ipython-input-6-526098b33302>\u001b[0m in \u001b[0;36m<module>\u001b[1;34m()\u001b[0m\n\u001b[0;32m      5\u001b[0m                            feed_dict= {X: mnist.test.images, \n\u001b[0;32m      6\u001b[0m                                        \u001b[0mY\u001b[0m\u001b[1;33m:\u001b[0m \u001b[0mmnist\u001b[0m\u001b[1;33m.\u001b[0m\u001b[0mtest\u001b[0m\u001b[1;33m.\u001b[0m\u001b[0mlabels\u001b[0m\u001b[1;33m,\u001b[0m\u001b[1;33m\u001b[0m\u001b[0m\n\u001b[1;32m----> 7\u001b[1;33m                                        keep_prob: 1}))\n\u001b[0m",
      "\u001b[1;32mC:\\Anaconda3\\lib\\site-packages\\tensorflow\\python\\client\\session.py\u001b[0m in \u001b[0;36mrun\u001b[1;34m(self, fetches, feed_dict, options, run_metadata)\u001b[0m\n\u001b[0;32m    893\u001b[0m     \u001b[1;32mtry\u001b[0m\u001b[1;33m:\u001b[0m\u001b[1;33m\u001b[0m\u001b[0m\n\u001b[0;32m    894\u001b[0m       result = self._run(None, fetches, feed_dict, options_ptr,\n\u001b[1;32m--> 895\u001b[1;33m                          run_metadata_ptr)\n\u001b[0m\u001b[0;32m    896\u001b[0m       \u001b[1;32mif\u001b[0m \u001b[0mrun_metadata\u001b[0m\u001b[1;33m:\u001b[0m\u001b[1;33m\u001b[0m\u001b[0m\n\u001b[0;32m    897\u001b[0m         \u001b[0mproto_data\u001b[0m \u001b[1;33m=\u001b[0m \u001b[0mtf_session\u001b[0m\u001b[1;33m.\u001b[0m\u001b[0mTF_GetBuffer\u001b[0m\u001b[1;33m(\u001b[0m\u001b[0mrun_metadata_ptr\u001b[0m\u001b[1;33m)\u001b[0m\u001b[1;33m\u001b[0m\u001b[0m\n",
      "\u001b[1;32mC:\\Anaconda3\\lib\\site-packages\\tensorflow\\python\\client\\session.py\u001b[0m in \u001b[0;36m_run\u001b[1;34m(self, handle, fetches, feed_dict, options, run_metadata)\u001b[0m\n\u001b[0;32m   1098\u001b[0m                 \u001b[1;34m'Cannot feed value of shape %r for Tensor %r, '\u001b[0m\u001b[1;33m\u001b[0m\u001b[0m\n\u001b[0;32m   1099\u001b[0m                 \u001b[1;34m'which has shape %r'\u001b[0m\u001b[1;33m\u001b[0m\u001b[0m\n\u001b[1;32m-> 1100\u001b[1;33m                 % (np_val.shape, subfeed_t.name, str(subfeed_t.get_shape())))\n\u001b[0m\u001b[0;32m   1101\u001b[0m           \u001b[1;32mif\u001b[0m \u001b[1;32mnot\u001b[0m \u001b[0mself\u001b[0m\u001b[1;33m.\u001b[0m\u001b[0mgraph\u001b[0m\u001b[1;33m.\u001b[0m\u001b[0mis_feedable\u001b[0m\u001b[1;33m(\u001b[0m\u001b[0msubfeed_t\u001b[0m\u001b[1;33m)\u001b[0m\u001b[1;33m:\u001b[0m\u001b[1;33m\u001b[0m\u001b[0m\n\u001b[0;32m   1102\u001b[0m             \u001b[1;32mraise\u001b[0m \u001b[0mValueError\u001b[0m\u001b[1;33m(\u001b[0m\u001b[1;34m'Tensor %s may not be fed.'\u001b[0m \u001b[1;33m%\u001b[0m \u001b[0msubfeed_t\u001b[0m\u001b[1;33m)\u001b[0m\u001b[1;33m\u001b[0m\u001b[0m\n",
      "\u001b[1;31mValueError\u001b[0m: Cannot feed value of shape (10000, 784) for Tensor 'Placeholder:0', which has shape '(?, 28, 28, 1)'"
     ]
    }
   ],
   "source": [
    "# 결과 확인\n",
    "is_correct = tf.equal(tf.argmax(model, 1), tf.argmax(Y, 1))\n",
    "accuracy = tf.reduce_mean(tf.cast(is_correct, tf.float32))\n",
    "print('정확도: ', sess.run(accuracy, \n",
    "                           feed_dict= {X: mnist.test.images.reshape(-1,28,28,1),  \n",
    "                                       Y: mnist.test.labels,\n",
    "                                       keep_prob: 1}))"
   ]
  },
  {
   "cell_type": "markdown",
   "metadata": {},
   "source": [
    "### 고수준 API - 보다 간단히.."
   ]
  },
  {
   "cell_type": "code",
   "execution_count": 7,
   "metadata": {
    "collapsed": true
   },
   "outputs": [],
   "source": [
    "X = tf.placeholder(tf.float32, [None, 28, 28, 1]) \n",
    "Y = tf.placeholder(tf.float32, [None, 10])\n",
    "is_training = tf.placeholder(tf.bool)\n",
    "\n",
    "with tf.name_scope('layer1'):\n",
    "    L1 = tf.layers.conv2d(X, 32, [3, 3])\n",
    "    L1 = tf.layers.max_pooling2d(L1, [2, 2], [2, 2])\n",
    "    L1 = tf.layers.dropout(L1, 0.7, is_training)\n",
    "    \n",
    "with tf.name_scope('layer2'):\n",
    "    L2 = tf.layers.conv2d(L1, 64, [3, 3])\n",
    "    L2 = tf.layers.max_pooling2d(L2, [2, 2], [2, 2])\n",
    "    L2 = tf.layers.dropout(L2, 0.7, is_training)\n",
    "\n",
    "# full connect layer\n",
    "with tf.name_scope('layer3'):\n",
    "    L3 = tf.contrib.layers.flatten(L2)\n",
    "    L3 = tf.layers.dense(L3, 256, activation = tf.nn.relu)\n",
    "    L3 = tf.layers.dropout(L3, 0.5, is_training)\n",
    "\n",
    "with tf.name_scope('layer4'):\n",
    "    model = tf.layers.dense(L3, 10, activation = None)\n",
    "    \n",
    "with tf.name_scope('optimizer'):\n",
    "    cost = tf.reduce_mean(tf.nn.softmax_cross_entropy_with_logits(labels = Y, logits = model))\n",
    "\n",
    "    optimizer = tf.train.AdamOptimizer(learning_rate = 0.001).minimize(cost)\n",
    "    # optimizer = tf.train.RMSPropOptimizer(0.001, 0.9).minimize(cost)"
   ]
  },
  {
   "cell_type": "code",
   "execution_count": 8,
   "metadata": {},
   "outputs": [
    {
     "name": "stdout",
     "output_type": "stream",
     "text": [
      "Epoch:  0001 Avg.cost = 0.169410\n",
      "Epoch:  0002 Avg.cost = 0.046445\n",
      "Epoch:  0003 Avg.cost = 0.029192\n",
      "Epoch:  0004 Avg.cost = 0.021008\n",
      "Epoch:  0005 Avg.cost = 0.016231\n",
      "Epoch:  0006 Avg.cost = 0.012353\n",
      "Epoch:  0007 Avg.cost = 0.010746\n",
      "Epoch:  0008 Avg.cost = 0.008955\n",
      "Epoch:  0009 Avg.cost = 0.007463\n",
      "Epoch:  0010 Avg.cost = 0.009652\n",
      "Epoch:  0011 Avg.cost = 0.005366\n",
      "Epoch:  0012 Avg.cost = 0.007582\n",
      "Epoch:  0013 Avg.cost = 0.006401\n",
      "Epoch:  0014 Avg.cost = 0.005902\n",
      "Epoch:  0015 Avg.cost = 0.006783\n",
      "Epoch:  0016 Avg.cost = 0.002845\n",
      "Epoch:  0017 Avg.cost = 0.004810\n",
      "Epoch:  0018 Avg.cost = 0.005859\n",
      "Epoch:  0019 Avg.cost = 0.003137\n",
      "Epoch:  0020 Avg.cost = 0.004733\n",
      "Epoch:  0021 Avg.cost = 0.004951\n",
      "Epoch:  0022 Avg.cost = 0.005195\n",
      "Epoch:  0023 Avg.cost = 0.001568\n",
      "Epoch:  0024 Avg.cost = 0.004258\n",
      "Epoch:  0025 Avg.cost = 0.008619\n",
      "Epoch:  0026 Avg.cost = 0.002838\n",
      "Epoch:  0027 Avg.cost = 0.002919\n",
      "Epoch:  0028 Avg.cost = 0.004039\n",
      "Epoch:  0029 Avg.cost = 0.002150\n",
      "Epoch:  0030 Avg.cost = 0.004656\n",
      "최적화 완료\n"
     ]
    }
   ],
   "source": [
    "# 모델 학습\n",
    "init = tf.global_variables_initializer()\n",
    "sess = tf.Session()\n",
    "sess.run(init)\n",
    "\n",
    "batch_size = 100\n",
    "total_batch = int(mnist.train.num_examples / batch_size)\n",
    "\n",
    "for epoch in range(30):\n",
    "    total_cost = 0\n",
    "    \n",
    "    for i in range(total_batch):\n",
    "        batch_xs, batch_ys = mnist.train.next_batch(batch_size)\n",
    "        batch_xs = batch_xs.reshape(-1, 28, 28, 1)\n",
    "        \n",
    "        _, cost_val = sess.run([optimizer, cost],\n",
    "                              feed_dict = {X: batch_xs, \n",
    "                                           Y: batch_ys, \n",
    "                                           keep_prob: 0.7})\n",
    "        total_cost += cost_val\n",
    "        \n",
    "    print('Epoch: ', '%04d' % (epoch + 1),\n",
    "          'Avg.cost =', '{:3f}'.format(total_cost / total_batch))\n",
    "\n",
    "print('최적화 완료')"
   ]
  },
  {
   "cell_type": "code",
   "execution_count": 10,
   "metadata": {},
   "outputs": [
    {
     "name": "stdout",
     "output_type": "stream",
     "text": [
      "정확도:  0.9899\n"
     ]
    }
   ],
   "source": [
    "# 결과 확인\n",
    "is_correct = tf.equal(tf.argmax(model, 1), tf.argmax(Y, 1))\n",
    "accuracy = tf.reduce_mean(tf.cast(is_correct, tf.float32))\n",
    "print('정확도: ', sess.run(accuracy, \n",
    "                           feed_dict= {X: mnist.test.images.reshape(-1,28,28,1), \n",
    "                                       Y: mnist.test.labels,\n",
    "                                       keep_prob: 1}))"
   ]
  },
  {
   "cell_type": "code",
   "execution_count": null,
   "metadata": {
    "collapsed": true
   },
   "outputs": [],
   "source": []
  }
 ],
 "metadata": {
  "kernelspec": {
   "display_name": "Python 3",
   "language": "python",
   "name": "python3"
  },
  "language_info": {
   "codemirror_mode": {
    "name": "ipython",
    "version": 3
   },
   "file_extension": ".py",
   "mimetype": "text/x-python",
   "name": "python",
   "nbconvert_exporter": "python",
   "pygments_lexer": "ipython3",
   "version": "3.6.1"
  }
 },
 "nbformat": 4,
 "nbformat_minor": 2
}
